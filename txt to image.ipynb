{
 "cells": [
  {
   "cell_type": "code",
   "execution_count": 6,
   "id": "b9cbeaf7",
   "metadata": {},
   "outputs": [
    {
     "name": "stderr",
     "output_type": "stream",
     "text": [
      "C:\\Users\\Lenovo\\AppData\\Local\\Temp\\ipykernel_5064\\1040441326.py:29: DeprecationWarning: textsize is deprecated and will be removed in Pillow 10 (2023-07-01). Use textbbox or textlength instead.\n",
      "  text_width, text_height = draw.textsize(text, font=font)\n"
     ]
    }
   ],
   "source": [
    "from PIL import Image, ImageDraw, ImageFont\n",
    "\n",
    "# Create a blank image with a white background\n",
    "width, height = 1200, 600  # Width and height of the image\n",
    "background_color = (255, 255, 255)  # White\n",
    "image = Image.new(\"RGB\", (width, height), background_color)\n",
    "\n",
    "# Initialize the drawing context\n",
    "draw = ImageDraw.Draw(image)\n",
    "\n",
    "# Define a font and size\n",
    "font_size = 40\n",
    "font = ImageFont.truetype(\"arial.ttf\", font_size)\n",
    "\n",
    "# Define text color\n",
    "text_color = (0, 0, 0)  # Black\n",
    "\n",
    "# Define the text to be written on the image\n",
    "text = \"\"\"Pakistan is a nation of contrasts, \n",
    " where rich history meets contemporary challenges, \n",
    " and natural beauty coexists with complex socio-political dynamics. While it grapples with various issues, \n",
    " Pakistan also offers a world of opportunities. As the country continues its journey,\n",
    " it remains a land of promise, poised to make its mark on the global stage. \n",
    " With careful planning, investment, and inclusive policies, \n",
    " Pakistan has the potential to fulfill its promise and rise as a beacon of progress in South Asia.\n",
    "\"\"\"\n",
    "\n",
    "# Calculate text size and position for centering\n",
    "text_width, text_height = draw.textsize(text, font=font)\n",
    "text_x = (width - text_width) / 2\n",
    "text_y = (height - text_height) / 2\n",
    "\n",
    "# Draw text on the image\n",
    "draw.text((text_x, text_y), text, fill=text_color, font=font)\n",
    "\n",
    "# Save the generated image\n",
    "image.save(\"output_image.png\")\n",
    "\n",
    "# Show the image (optional)\n",
    "image.show()\n"
   ]
  },
  {
   "cell_type": "code",
   "execution_count": 11,
   "id": "f0babed3",
   "metadata": {},
   "outputs": [
    {
     "name": "stderr",
     "output_type": "stream",
     "text": [
      "C:\\Users\\Lenovo\\AppData\\Local\\Temp\\ipykernel_5064\\3094143566.py:28: DeprecationWarning: textsize is deprecated and will be removed in Pillow 10 (2023-07-01). Use textbbox or textlength instead.\n",
      "  text_width, text_height = draw.textsize(text, font=font)\n"
     ]
    }
   ],
   "source": [
    "from PIL import Image, ImageDraw, ImageFont\n",
    "\n",
    "# Create a blank image with a white background\n",
    "width, height = 800, 400  # Width and height of the image\n",
    "background_color = (255, 255, 255)  # White\n",
    "image = Image.new(\"RGB\", (width, height), background_color)\n",
    "\n",
    "# Initialize the drawing context\n",
    "draw = ImageDraw.Draw(image)\n",
    "\n",
    "# Define a font and size\n",
    "font_size = 15\n",
    "font = ImageFont.truetype(\"arial.ttf\", font_size)\n",
    "\n",
    "# Define text color\n",
    "text_color = (0, 0, 0)  # Black\n",
    "\n",
    "# Define the text to be written on the image\n",
    "text = \"\"\"Pakistan is a nation of contrasts, where rich history meets contemporary challenges, \n",
    "and natural beauty coexists with complex socio-political dynamics.\n",
    "While it grapples with various issues, Pakistan also offers a world of opportunities. \n",
    "As the country continues its journey, it remains a land of promise, poised to make its mark on the global stage.\n",
    "With careful planning, investment, and inclusive policies, \n",
    "Pakistan has the potential to fulfill its promise and rise as a beacon of progress in South Asia..\n",
    "\"\"\"\n",
    "\n",
    "# Calculate text size and position for centering\n",
    "text_width, text_height = draw.textsize(text, font=font)\n",
    "text_x = (width - text_width) / 2\n",
    "text_y = (height - text_height) / 2\n",
    "\n",
    "# Draw text on the image\n",
    "draw.text((text_x, text_y), text, fill=text_color, font=font)\n",
    "\n",
    "# Save the generated image\n",
    "image.save(\"output_image.png\")\n",
    "\n",
    "# Show the image (optional)\n",
    "image.show()\n"
   ]
  },
  {
   "cell_type": "code",
   "execution_count": null,
   "id": "352c4fc2",
   "metadata": {},
   "outputs": [],
   "source": []
  }
 ],
 "metadata": {
  "kernelspec": {
   "display_name": "Python 3 (ipykernel)",
   "language": "python",
   "name": "python3"
  },
  "language_info": {
   "codemirror_mode": {
    "name": "ipython",
    "version": 3
   },
   "file_extension": ".py",
   "mimetype": "text/x-python",
   "name": "python",
   "nbconvert_exporter": "python",
   "pygments_lexer": "ipython3",
   "version": "3.9.13"
  }
 },
 "nbformat": 4,
 "nbformat_minor": 5
}
